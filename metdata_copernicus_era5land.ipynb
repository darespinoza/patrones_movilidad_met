{
 "cells": [
  {
   "cell_type": "markdown",
   "id": "dbe2a8f2",
   "metadata": {},
   "source": [
    "# Consultar data de ERA5 Land"
   ]
  },
  {
   "cell_type": "code",
   "execution_count": 4,
   "id": "8f01f3d1",
   "metadata": {},
   "outputs": [
    {
     "name": "stderr",
     "output_type": "stream",
     "text": [
      "2025-04-29 16:22:20,272 WARNING [2025-04-29T00:00:00] Multiple maintenance sessions are planned this week, which may affect data downloads and other services. Check [here](https://status.ecmwf.int/) for status updates.\n",
      "2025-04-29 16:22:20,272 INFO [2024-09-26T00:00:00] Watch our [Forum](https://forum.ecmwf.int/) for Announcements, news and other discussed topics.\n",
      "2025-04-29 16:22:20,273 WARNING [2024-06-16T00:00:00] CDS API syntax is changed and some keys or parameter names may have also changed. To avoid requests failing, please use the \"Show API request code\" tool on the dataset Download Form to check you are using the correct syntax for your API request.\n",
      "2025-04-29 16:22:20,834 INFO Request ID is aa08e57d-b160-41f2-8afe-13b76ccd7f3a\n",
      "2025-04-29 16:22:21,104 INFO status has been updated to accepted\n",
      "2025-04-29 16:22:35,761 INFO status has been updated to running\n",
      "2025-04-29 16:28:43,402 INFO status has been updated to successful\n",
      "                                                                                          \r"
     ]
    },
    {
     "data": {
      "text/plain": [
       "'copernicus_era5land_data/ecuador_era5land_2023.grib'"
      ]
     },
     "execution_count": 4,
     "metadata": {},
     "output_type": "execute_result"
    }
   ],
   "source": [
    "import cdsapi\n",
    "\n",
    "# Initialize the CDS API client\n",
    "client = cdsapi.Client()\n",
    "\n",
    "# Define Ecuador's bounding box: North, West, South, East\n",
    "ecuador_bbox = [2.0, -81.0, -5.0, -75.0]\n",
    "\n",
    "# Retrieve parameters\n",
    "dataset = 'reanalysis-era5-land'\n",
    "target = 'copernicus_era5land_data/ecuador_era5land_2023.grib'\n",
    "request = {\n",
    "        'format': 'grib',\n",
    "        'variable': [\n",
    "            '2m_temperature', 'total_precipitation', 'surface_pressure',\n",
    "        ],\n",
    "        'year': '2023',\n",
    "        'month': [\n",
    "            '09',\n",
    "        ],\n",
    "        'day': [\n",
    "            '01', '02', '03', '04', '05', '06', '07',\n",
    "            '08', '09', '10', '11', '12', '13', '14', '15',\n",
    "            '16', '17', '18', '19', '20', '21', '22',\n",
    "            '23', '24', '25', '26', '27', '28', '29', '30',\n",
    "        ],\n",
    "        'time': [\n",
    "            '00:00', '01:00', '02:00', '03:00', '04:00', '05:00',\n",
    "            '06:00', '07:00', '08:00', '09:00', '10:00', '11:00',\n",
    "            '12:00', '13:00', '14:00', '15:00', '16:00', '17:00',\n",
    "            '18:00', '19:00', '20:00', '21:00', '22:00', '23:00',\n",
    "        ],\n",
    "        'area': ecuador_bbox,\n",
    "    }\n",
    "\n",
    "# Retrive data\n",
    "client.retrieve(dataset, request, target)"
   ]
  }
 ],
 "metadata": {
  "kernelspec": {
   "display_name": "venv",
   "language": "python",
   "name": "python3"
  },
  "language_info": {
   "codemirror_mode": {
    "name": "ipython",
    "version": 3
   },
   "file_extension": ".py",
   "mimetype": "text/x-python",
   "name": "python",
   "nbconvert_exporter": "python",
   "pygments_lexer": "ipython3",
   "version": "3.12.3"
  }
 },
 "nbformat": 4,
 "nbformat_minor": 5
}
